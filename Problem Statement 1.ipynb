{
 "cells": [
  {
   "cell_type": "code",
   "execution_count": null,
   "id": "98a454ff",
   "metadata": {},
   "outputs": [],
   "source": [
    "# Ans1. \n",
    "5 - int (integer)\n",
    "5.0 - double (floating-point)\n",
    "5 > 1 - bool (boolean)\n",
    "'5' - char (character)\n",
    "5 * 2 - int (integer)\n",
    "'5' * 2 - int (integer)\n",
    "'5' + '2' - int (integer) - This is actually a numeric operation resulting from adding the ASCII values of the characters '5' and '2'.\n",
    "5 / 2 - int (integer) - This will result in integer division, so the fractional part is truncated.\n",
    "5 % 2 - int (integer) - This represents the remainder of the division.\n",
    "{5, 2, 1} - int[] (integer array)\n",
    "5 == 3 - bool (boolean) - This is a comparison, and the result is either true or false.\n",
    "Pi -  double (floating-point)\n",
    "\n",
    "\n"
   ]
  },
  {
   "cell_type": "code",
   "execution_count": 5,
   "id": "e46ef7e5",
   "metadata": {},
   "outputs": [],
   "source": [
    "#Ans2.\n",
    "using System;\n",
    "\n",
    "class Program\n",
    "{\n",
    "    static void Main()\n",
    "    {\n",
    "        // a. How many letters are there in 'Supercalifragilisticexpialidocious'?\n",
    "        string wordA = \"Supercalifragilisticexpialidocious\";\n",
    "        int numberOfLettersA = wordA.Length;\n",
    "        Console.WriteLine($\"Number of letters in '{wordA}': {numberOfLettersA}\");\n",
    "\n",
    "        // b. Does 'Supercalifragilisticexpialidocious' contain 'ice' as a substring?\n",
    "        string wordB = \"Supercalifragilisticexpialidocious\";\n",
    "        bool containsIce = wordB.Contains(\"ice\");\n",
    "        Console.WriteLine($\"'{wordB}' contains 'ice' as a substring: {containsIce}\");\n",
    "\n",
    "        // c. Which of the following words is the longest?\n",
    "        string wordC1 = \"Supercalifragilisticexpialidocious\";\n",
    "        string wordC2 = \"Honorificabilitudinitatibus\";\n",
    "        string wordC3 = \"Bababadalgharaghtakamminarronnkonn\";\n",
    "\n",
    "        string longestWord = GetLongestWord(wordC1, wordC2, wordC3);\n",
    "        Console.WriteLine($\"The longest word is: {longestWord}\");\n",
    "\n",
    "        // d. Which composer comes first and last in the dictionary?\n",
    "        string[] composers = { \"Berlioz\", \"Borodin\", \"Brian\", \"Bartok\", \"Bellini\", \"Buxtehude\", \"Bernstein\" };\n",
    "        Array.Sort(composers);\n",
    "        string firstComposer = composers[0];\n",
    "        string lastComposer = composers[composers.Length - 1];\n",
    "\n",
    "        Console.WriteLine($\"First composer in the dictionary: {firstComposer}\");\n",
    "        Console.WriteLine($\"Last composer in the dictionary: {lastComposer}\");\n",
    "    }\n",
    "\n",
    "    static string GetLongestWord(params string[] words)\n",
    "    {\n",
    "        string longestWord = words[0];\n",
    "        foreach (string word in words)\n",
    "        {\n",
    "            if (word.Length > longestWord.Length)\n",
    "            {\n",
    "                longestWord = word;\n",
    "            }\n",
    "        }\n",
    "        return longestWord;\n",
    "    }\n",
    "}\n"
   ]
  },
  {
   "cell_type": "code",
   "execution_count": null,
   "id": "4eef7cf5",
   "metadata": {},
   "outputs": [],
   "source": [
    "# output\n",
    "Number of letters in 'Supercalifragilisticexpialidocious': 34\n",
    "'Supercalifragilisticexpialidocious' contains 'ice' as a substring: True\n",
    "The longest word is: Supercalifragilisticexpialidocious\n",
    "First composer in the dictionary: Bartok\n",
    "Last composer in the dictionary: Buxtehude"
   ]
  }
 ],
 "metadata": {
  "kernelspec": {
   "display_name": "Python 3 (ipykernel)",
   "language": "python",
   "name": "python3"
  },
  "language_info": {
   "codemirror_mode": {
    "name": "ipython",
    "version": 3
   },
   "file_extension": ".py",
   "mimetype": "text/x-python",
   "name": "python",
   "nbconvert_exporter": "python",
   "pygments_lexer": "ipython3",
   "version": "3.11.5"
  }
 },
 "nbformat": 4,
 "nbformat_minor": 5
}
