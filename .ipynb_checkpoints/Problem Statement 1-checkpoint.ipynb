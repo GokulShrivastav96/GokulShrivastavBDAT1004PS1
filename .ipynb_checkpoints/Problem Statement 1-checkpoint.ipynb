{
 "cells": [
  {
   "cell_type": "code",
   "execution_count": null,
   "id": "e0af0a11",
   "metadata": {},
   "outputs": [],
   "source": [
    "# Ans1. \n",
    "5 - int (integer)\n",
    "5.0 - double (floating-point)\n",
    "5 > 1 - bool (boolean)\n",
    "'5' - char (character)\n",
    "5 * 2 - int (integer)\n",
    "'5' * 2 - int (integer)\n",
    "'5' + '2' - int (integer) - This is actually a numeric operation resulting from adding the ASCII values of the characters '5' and '2'.\n",
    "5 / 2 - int (integer) - This will result in integer division, so the fractional part is truncated.\n",
    "5 % 2 - int (integer) - This represents the remainder of the division.\n",
    "{5, 2, 1} - int[] (integer array)\n",
    "5 == 3 - bool (boolean) - This is a comparison, and the result is either true or false.\n",
    "Pi -  double (floating-point)"
   ]
  }
 ],
 "metadata": {
  "kernelspec": {
   "display_name": "Python 3 (ipykernel)",
   "language": "python",
   "name": "python3"
  },
  "language_info": {
   "codemirror_mode": {
    "name": "ipython",
    "version": 3
   },
   "file_extension": ".py",
   "mimetype": "text/x-python",
   "name": "python",
   "nbconvert_exporter": "python",
   "pygments_lexer": "ipython3",
   "version": "3.11.5"
  }
 },
 "nbformat": 4,
 "nbformat_minor": 5
}
